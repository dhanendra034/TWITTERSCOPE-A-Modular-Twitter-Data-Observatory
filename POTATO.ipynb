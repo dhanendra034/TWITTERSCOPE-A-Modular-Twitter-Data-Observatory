{
 "cells": [
  {
   "cell_type": "code",
   "execution_count": null,
   "id": "8e0064bf-464a-4469-8165-fdf5f3ece645",
   "metadata": {},
   "outputs": [],
   "source": [
    "import pandas as pd\n",
    "\n",
    "file_path = 'D:\\Projects\\TWITTERSCOPE A Modular Twitter Data Observatory\\TWITTERSCOPE A Modular Twitter Data Observatory'\n",
    "\n",
    "def read_data_in_chunks(file_path):\n",
    "    chunk_size = 10000 \n",
    "    return pd.read_csv(file_path, delimiter='\\t', chunksize=chunk_size, parse_dates=['created_at'])\n",
    "\n",
    "chunks = read_data_in_chunks(file_path)\n",
    "first_chunk = next(chunks)\n",
    "print(first_chunk.head())"
   ]
  },
  {
   "cell_type": "code",
   "execution_count": null,
   "id": "61c6ae63",
   "metadata": {},
   "outputs": [],
   "source": []
  },
  {
   "cell_type": "code",
   "execution_count": null,
   "id": "b111b5ad-989e-4233-8bcb-dbe05f4bcfff",
   "metadata": {},
   "outputs": [],
   "source": [
    "import pandas as pd\n",
    "from collections import defaultdict\n",
    "import numpy as np\n",
    "\n",
    "file_path = 'D:\\Projects\\TWITTERSCOPE A Modular Twitter Data Observatory\\TWITTERSCOPE A Modular Twitter Data Observatory'\n",
    "\n",
    "def process_data(file_path):\n",
    "    chunk_size = 10000\n",
    "    daily_tweet_counts = defaultdict(int)\n",
    "    unique_users = set()\n",
    "    daily_likes = defaultdict(list)\n",
    "    places = set()\n",
    "    times_of_day = defaultdict(int)\n",
    "    user_tweet_counts = defaultdict(int)\n",
    "\n",
    "    for chunk in pd.read_csv(file_path, delimiter='\\t', chunksize=chunk_size):\n",
    "        chunk['created_at'] = pd.to_datetime(chunk['created_at'], errors='coerce', utc=True)\n",
    "        \n",
    "        if chunk['created_at'].dtype == 'datetime64[ns, UTC]':\n",
    "            music_tweets = chunk[chunk['text'].str.contains('music', case=False, na=False)]\n",
    "            \n",
    "            if not music_tweets.empty:\n",
    "                for _, tweet in music_tweets.iterrows():\n",
    "                    date = tweet['created_at'].date()  # Convert UTC datetime to date\n",
    "                    daily_tweet_counts[date] += 1\n",
    "                    unique_users.add(tweet['author_id'])\n",
    "                    daily_likes[date].append(tweet['like_count'])\n",
    "                    if pd.notna(tweet['place_id']):\n",
    "                        places.add(tweet['place_id'])\n",
    "                    hour = tweet['created_at'].hour\n",
    "                    times_of_day[hour] += 1\n",
    "                    user_tweet_counts[tweet['author_id']] += 1\n",
    "\n",
    "    # Print results\n",
    "    print('Daily Tweet Counts:', dict(daily_tweet_counts))\n",
    "    print('Number of Unique Users:', len(unique_users))\n",
    "    print('Average Likes per Day:', {day: np.mean(likes) for day, likes in daily_likes.items() if likes})\n",
    "    print('Places IDs from where Tweets Originated:', places)\n",
    "    print('Tweet Counts by Hour of Day:', dict(times_of_day))\n",
    "    print('Top User by Tweet Count:', max(user_tweet_counts, key=user_tweet_counts.get))\n",
    "\n",
    "process_data(file_path)"
   ]
  },
  {
   "cell_type": "code",
   "execution_count": null,
   "id": "f2a655d7-0dc4-43e8-addc-b15e28e67f23",
   "metadata": {},
   "outputs": [],
   "source": []
  },
  {
   "cell_type": "code",
   "execution_count": 4,
   "id": "9c1988d1-7184-4733-befa-fe676b2a5097",
   "metadata": {},
   "outputs": [
    {
     "name": "stdout",
     "output_type": "stream",
     "text": [
      "Data processing complete...\n"
     ]
    }
   ],
   "source": [
    "print(\"Data processing complete...\")"
   ]
  }
 ],
 "metadata": {
  "kernelspec": {
   "display_name": "Python 3",
   "language": "python",
   "name": "python3"
  },
  "language_info": {
   "codemirror_mode": {
    "name": "ipython",
    "version": 3
   },
   "file_extension": ".py",
   "mimetype": "text/x-python",
   "name": "python",
   "nbconvert_exporter": "python",
   "pygments_lexer": "ipython3",
   "version": "3.13.6"
  }
 },
 "nbformat": 4,
 "nbformat_minor": 5
}
